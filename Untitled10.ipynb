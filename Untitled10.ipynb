{
 "cells": [
  {
   "cell_type": "markdown",
   "id": "746280ef",
   "metadata": {},
   "source": [
    "# Multithreading"
   ]
  },
  {
   "cell_type": "code",
   "execution_count": 21,
   "id": "a2844b63",
   "metadata": {},
   "outputs": [
    {
     "name": "stdout",
     "output_type": "stream",
     "text": [
      "1\n",
      "1\n",
      "1\n",
      "1\n",
      "1\n",
      "1\n",
      "1\n",
      "1\n",
      "2\n",
      "21\n",
      "2\n",
      "2\n",
      "2\n",
      "2\n",
      "2\n",
      "2\n",
      "2\n",
      "2\n",
      "\n",
      "1\n",
      "Done !\n"
     ]
    }
   ],
   "source": [
    "import threading\n",
    "\n",
    "def print_one():\n",
    "    for i in range(10):\n",
    "        print(1)\n",
    "        \n",
    "def print_two():\n",
    "    for i in range(10):\n",
    "        print(2)\n",
    "\n",
    "t1=threading.Thread(target=print_one)\n",
    "t2=threading.Thread(target=print_two)\n",
    "\n",
    "t1.start()\n",
    "t2.start()\n",
    "\n",
    "t1.join()\n",
    "t2.join()\n",
    "\n",
    "print(\"Done !\")"
   ]
  },
  {
   "cell_type": "code",
   "execution_count": 24,
   "id": "06deb380",
   "metadata": {},
   "outputs": [
    {
     "name": "stdout",
     "output_type": "stream",
     "text": [
      "\n",
      "Enter the numbers : 1 3 5 6 9\n",
      "The Square of 1 is 1\n",
      "The Square of 3 is 9\n",
      "The Square of 5 is 25\n",
      "The Square of 6 is 36\n",
      "The Square of 9 is 81\n",
      "The Cube of 1 is: 1\n",
      "The Cube of 3 is: 27\n",
      "The Cube of 5 is: 125\n",
      "The Cube of 6 is: 216\n",
      "The Cube of 9 is: 729\n"
     ]
    }
   ],
   "source": [
    "import threading\n",
    "\n",
    "def square(list):\n",
    "    for i in list:\n",
    "        print(f\"The Square of {i} is\",i*i)\n",
    "\n",
    "def cube(list):\n",
    "    for i in list:\n",
    "        print(f\"The Cube of {i} is:\",i*i*i)\n",
    "\n",
    "num=list(map(int,input(\"\\nEnter the numbers : \").strip().split()))[:5]\n",
    "\n",
    "t1=threading.Thread(target=square,args=[num])\n",
    "t2=threading.Thread(target=cube,args=[num])\n",
    "\n",
    "t1.start()\n",
    "t2.start()\n",
    "\n",
    "\n",
    "t1.join()\n",
    "t2.join()"
   ]
  },
  {
   "cell_type": "code",
   "execution_count": 34,
   "id": "d10e4d9f",
   "metadata": {},
   "outputs": [
    {
     "name": "stdout",
     "output_type": "stream",
     "text": [
      "Thread Name: MyThread\n",
      "Thread Identifier: 128856\n",
      "Is Thread Alive: True\n",
      "After Name Change: MyThread\n",
      "Time taken by thread: 0.0016055107116699219\n"
     ]
    }
   ],
   "source": [
    "import threading\n",
    "import time\n",
    "start=time.time()\n",
    "t=threading.current_thread()\n",
    "print(\"Thread Name:\",t.name)\n",
    "print(\"Thread Identifier:\",t.ident)\n",
    "print(\"Is Thread Alive:\",t.is_alive())\n",
    "t.name=\"MyThread\"\n",
    "print(\"After Name Change:\",t.name)\n",
    "end=time.time()\n",
    "print(\"Time taken by thread:\",(end-start))\n"
   ]
  },
  {
   "cell_type": "code",
   "execution_count": null,
   "id": "842a8dee",
   "metadata": {},
   "outputs": [],
   "source": []
  }
 ],
 "metadata": {
  "kernelspec": {
   "display_name": "Python 3 (ipykernel)",
   "language": "python",
   "name": "python3"
  },
  "language_info": {
   "codemirror_mode": {
    "name": "ipython",
    "version": 3
   },
   "file_extension": ".py",
   "mimetype": "text/x-python",
   "name": "python",
   "nbconvert_exporter": "python",
   "pygments_lexer": "ipython3",
   "version": "3.9.6"
  }
 },
 "nbformat": 4,
 "nbformat_minor": 5
}
