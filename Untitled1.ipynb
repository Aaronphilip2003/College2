{
 "cells": [
  {
   "cell_type": "code",
   "execution_count": null,
   "id": "dd3573d7",
   "metadata": {},
   "outputs": [],
   "source": [
    "import sys\n",
    "\n",
    "def checkRightAngled(a,b,c):\n",
    "    if a*a+b*b==c*c:\n",
    "        return True\n",
    "    elif c*c+b*b==a*a:\n",
    "        return True\n",
    "    elif a*a+c*c==b*b:\n",
    "        return True\n",
    "    \n",
    "    return False\n",
    "\n",
    "cont=0\n",
    "while (cont!=1):\n",
    "    try:\n",
    "        a=input(\"Enter the first side of the triangle:\")\n",
    "        b=input(\"Enter the second side of the triangle:\")\n",
    "        c=input(\"Enter the third side of the triangle:\")\n",
    "        a=int(a)\n",
    "        b=int(b)\n",
    "        c=int(c)\n",
    "        answer=checkRightAngled(a,b,c)\n",
    "        if answer==1:\n",
    "            print(\"Right Angled Triangle\")\n",
    "        else:\n",
    "            print(\"Not a Right Angled Triangle\")\n",
    "        cont=int(input(\"Do you want to continue? 0 for yes 1 for no\"))\n",
    "    except:\n",
    "        print(sys.exc_info([0]))\n"
   ]
  },
  {
   "cell_type": "code",
   "execution_count": 2,
   "id": "b3a9224d",
   "metadata": {},
   "outputs": [
    {
     "name": "stdout",
     "output_type": "stream",
     "text": [
      "Enter a number:777\n",
      "3\n",
      "7\n",
      "37\n"
     ]
    }
   ],
   "source": [
    "def prime(num):\n",
    "    for i in range(2,num):\n",
    "        if num%i==0:\n",
    "            return False\n",
    "    return True\n",
    "        \n",
    "    \n",
    "\n",
    "def primeFactors(num):\n",
    "    for i in range(2,num):\n",
    "        if prime(i)==True:\n",
    "            if num%i==0:\n",
    "                print(i)\n",
    "            \n",
    "num=int(input(\"Enter a number:\"))\n",
    "primeFactors(num)"
   ]
  },
  {
   "cell_type": "code",
   "execution_count": 25,
   "id": "490db0b9",
   "metadata": {},
   "outputs": [
    {
     "name": "stdout",
     "output_type": "stream",
     "text": [
      "\n",
      "* \n",
      "* * \n",
      "* * * \n",
      "* * * * \n"
     ]
    }
   ],
   "source": [
    "def printPattern(rows):\n",
    "    for i in range(0,rows):\n",
    "        for j in range(0,i):\n",
    "            print(\"*\",end=\" \")\n",
    "        print()\n",
    "printPattern(5)"
   ]
  },
  {
   "cell_type": "code",
   "execution_count": 3,
   "id": "12247df2",
   "metadata": {},
   "outputs": [
    {
     "name": "stdout",
     "output_type": "stream",
     "text": [
      "[]\n",
      "[1, 2, 3, 'example', 3.132]\n"
     ]
    }
   ],
   "source": [
    "my_list=[]\n",
    "print(my_list)\n",
    "my_list=[1,2,3,'example',3.132]\n",
    "print(my_list)"
   ]
  },
  {
   "cell_type": "markdown",
   "id": "d3756c5c",
   "metadata": {},
   "source": [
    "# List Exercises"
   ]
  },
  {
   "cell_type": "code",
   "execution_count": 7,
   "id": "62f857bb",
   "metadata": {},
   "outputs": [
    {
     "name": "stdout",
     "output_type": "stream",
     "text": [
      "Enter 10 values:\n",
      "0\n",
      "1\n",
      "0\n",
      "1\n",
      "10\n",
      "20\n",
      "20\n",
      "30\n",
      "30\n",
      "40\n",
      "[0, 1, 0, 1, 10, 20, 20, 30, 30, 40]\n"
     ]
    }
   ],
   "source": [
    "list=[]\n",
    "print(\"Enter 10 values:\")\n",
    "for i in range(10):\n",
    "    inp=int(input())\n",
    "    list.append(inp)\n",
    "print(list)"
   ]
  },
  {
   "cell_type": "markdown",
   "id": "1c2b3c37",
   "metadata": {},
   "source": [
    "### counting similiar elements in the list"
   ]
  },
  {
   "cell_type": "code",
   "execution_count": 8,
   "id": "1cc850ac",
   "metadata": {},
   "outputs": [
    {
     "name": "stdout",
     "output_type": "stream",
     "text": [
      "[[0, 2], [1, 3], [5, 6], [7, 8]]\n",
      "4\n"
     ]
    }
   ],
   "source": [
    "count=0\n",
    "similar_element_indices=[]\n",
    "for i in range(0,len(list)):\n",
    "    for j in range(1,len(list)):\n",
    "        if list[i]==list[j] and i!=j:\n",
    "            similar_element_indices.append([i,j])\n",
    "\n",
    "for i in range(0,len(similar_element_indices)):\n",
    "    similar_element_indices[i].sort()\n",
    "\n",
    "final_element_list=[]\n",
    "for i in range(0,len(similar_element_indices)):\n",
    "    if similar_element_indices[i] not in final_element_list :\n",
    "        final_element_list.append(similar_element_indices[i])\n",
    "        count+=1\n",
    "print(final_element_list)\n",
    "print(count)"
   ]
  },
  {
   "cell_type": "markdown",
   "id": "91fcc5c9",
   "metadata": {},
   "source": [
    "### count even and odd values"
   ]
  },
  {
   "cell_type": "code",
   "execution_count": 9,
   "id": "b3f4448a",
   "metadata": {},
   "outputs": [
    {
     "name": "stdout",
     "output_type": "stream",
     "text": [
      "Even numbers: [0, 0, 10, 20, 20, 30, 30, 40]\n",
      "Even Count: 8\n",
      "Odd numbers: [1, 1]\n",
      "Odd Count: 2\n"
     ]
    }
   ],
   "source": [
    "even=[]\n",
    "even_count=0\n",
    "odd_count=0\n",
    "odd=[]\n",
    "for i in list:\n",
    "    if i%2==0:\n",
    "        even.append(i)\n",
    "        even_count+=1\n",
    "    else:\n",
    "        odd.append(i)\n",
    "        odd_count+=1\n",
    "print(\"Even numbers:\",even)\n",
    "print(\"Even Count:\",even_count)\n",
    "print(\"Odd numbers:\",odd)\n",
    "print(\"Odd Count:\",odd_count)"
   ]
  },
  {
   "cell_type": "markdown",
   "id": "167cd3cc",
   "metadata": {},
   "source": [
    "### Count Positive and Negative Values"
   ]
  },
  {
   "cell_type": "code",
   "execution_count": 6,
   "id": "1ffd7f81",
   "metadata": {},
   "outputs": [
    {
     "name": "stdout",
     "output_type": "stream",
     "text": [
      "Positive: 10\n",
      "Negative: 0\n",
      "Zeros: 0\n"
     ]
    }
   ],
   "source": [
    "positive_count=0\n",
    "negative_count=0\n",
    "zeros=0\n",
    "for i in list:\n",
    "    if i>0:\n",
    "        positive_count+=1\n",
    "    elif i<=0:\n",
    "        negative_count+=1\n",
    "    else:\n",
    "        zeros+=1\n",
    "print(\"Positive:\",positive_count)\n",
    "print(\"Negative:\",negative_count)\n",
    "print(\"Zeros:\",zeros)\n"
   ]
  },
  {
   "cell_type": "markdown",
   "id": "ef5db4ca",
   "metadata": {},
   "source": [
    "## Question 2"
   ]
  },
  {
   "cell_type": "code",
   "execution_count": 33,
   "id": "72911ad5",
   "metadata": {},
   "outputs": [
    {
     "name": "stdout",
     "output_type": "stream",
     "text": [
      "1\n",
      "3\n",
      "24\n",
      "35\n",
      "46\n",
      "57\n",
      "9\n",
      "80\n",
      "75\n",
      "66\n",
      "Ascending Order:\n",
      "[1, 3, 9, 24, 35, 46, 57, 66, 75, 80]\n",
      "Descending Order:\n",
      "[80, 75, 66, 57, 46, 35, 24, 9, 3, 1]\n",
      "Length of the list:\n",
      "10\n"
     ]
    }
   ],
   "source": [
    "list2=[]\n",
    "for i in range(10):\n",
    "    inp=int(input())\n",
    "    list2.append(inp)\n",
    "print(\"Ascending Order:\")\n",
    "print(sorted(list2))\n",
    "print(\"Descending Order:\")\n",
    "list2.sort(reverse=True)\n",
    "print(list2)\n",
    "print(\"Length of the list:\")\n",
    "print(len(list2))"
   ]
  },
  {
   "cell_type": "markdown",
   "id": "ea1bdc23",
   "metadata": {},
   "source": [
    "###  Question 3"
   ]
  },
  {
   "cell_type": "code",
   "execution_count": 35,
   "id": "a6ce9d82",
   "metadata": {},
   "outputs": [
    {
     "name": "stdout",
     "output_type": "stream",
     "text": [
      "Enter the elements of the first List:\n",
      "1\n",
      "2\n",
      "3\n",
      "4\n",
      "5\n",
      "6\n",
      "7\n",
      "8\n",
      "9\n",
      "10\n",
      "Enter the elements of the second List:\n",
      "11\n",
      "12\n",
      "13\n",
      "14\n",
      "15\n",
      "16\n",
      "17\n",
      "18\n",
      "19\n",
      "20\n",
      "Merged List:\n",
      "[1, 2, 3, 4, 5, 6, 7, 8, 9, 10, 11, 12, 13, 14, 15, 16, 17, 18, 19, 20]\n"
     ]
    }
   ],
   "source": [
    "list1=[]\n",
    "list2=[]\n",
    "print(\"Enter the elements of the first List:\")\n",
    "for i in range(10):\n",
    "    inp=int(input())\n",
    "    list1.append(inp)\n",
    "print(\"Enter the elements of the second List:\")\n",
    "for i in range(10):\n",
    "    inp=int(input())\n",
    "    list2.append(inp)\n",
    "list_final=[]\n",
    "list_final=list1+list2\n",
    "print(\"Merged List:\")\n",
    "print(list_final)"
   ]
  },
  {
   "cell_type": "markdown",
   "id": "7bf94edf",
   "metadata": {},
   "source": [
    "### Question 4 - Acronym"
   ]
  },
  {
   "cell_type": "code",
   "execution_count": 10,
   "id": "d9df6452",
   "metadata": {},
   "outputs": [
    {
     "name": "stdout",
     "output_type": "stream",
     "text": [
      "Enter a phrase:Random Access Memory\n",
      "RAM\n"
     ]
    }
   ],
   "source": [
    "phrase=input(\"Enter a phrase:\")\n",
    "acronym=phrase[0].upper()\n",
    "for i in range(0,len(phrase)-1):\n",
    "    if phrase[i]==' ':\n",
    "        acronym+=phrase[i+1].upper()\n",
    "print(acronym)"
   ]
  },
  {
   "cell_type": "markdown",
   "id": "8df2ff3d",
   "metadata": {},
   "source": [
    "### Question 5"
   ]
  },
  {
   "cell_type": "code",
   "execution_count": 2,
   "id": "0261247c",
   "metadata": {},
   "outputs": [
    {
     "name": "stdout",
     "output_type": "stream",
     "text": [
      "Enter the number of the month to find its abbreviation:11\n",
      "Nov\n"
     ]
    }
   ],
   "source": [
    "i=int(input(\"Enter the number of the month to find its abbreviation:\"))\n",
    "months=[\"Jan\",\"Feb\",\"Mar\",\"Apr\",\"May\",\"Jun\",\"Jul\",\"Aug\",\"Sep\",\"Oct\",\"Nov\",\"Dec\"]\n"
   ]
  },
  {
   "cell_type": "code",
   "execution_count": 2,
   "id": "857f1366",
   "metadata": {},
   "outputs": [],
   "source": [
    "my_tuple=(1,2,3,\"hello\",[\"list_el_1\",\"list_el_2\"])"
   ]
  },
  {
   "cell_type": "code",
   "execution_count": 5,
   "id": "ea732304",
   "metadata": {},
   "outputs": [
    {
     "name": "stdout",
     "output_type": "stream",
     "text": [
      "(1, 2, 3, 'hello', ['list_el_1', 'list_el_2'])\n",
      "1\n",
      "o\n",
      "(3, 'hello', ['list_el_1', 'list_el_2'])\n",
      "list_el_1\n"
     ]
    }
   ],
   "source": [
    "print(my_tuple)\n",
    "print(my_tuple[0])\n",
    "print(my_tuple[3][4])\n",
    "print(my_tuple[2:])\n",
    "print(my_tuple[4][0])"
   ]
  },
  {
   "cell_type": "code",
   "execution_count": 25,
   "id": "787e35fa",
   "metadata": {},
   "outputs": [
    {
     "name": "stdout",
     "output_type": "stream",
     "text": [
      "Original List: ((3, 4, 5), (1, 2, 3), (3, 4))\n",
      "Unique Elements: [3, 4, 5, 1, 2]\n"
     ]
    }
   ],
   "source": [
    "list_=((3,4,5),(1,2,3),(3,4))\n",
    "print(\"Original List:\",list_)\n",
    "result=[]\n",
    "temp=set()\n",
    "for i in list_:\n",
    "    for j in i:\n",
    "        if j not in temp:\n",
    "            temp.add(j)\n",
    "            result.append(j)\n",
    "print(\"Unique Elements:\",result)"
   ]
  },
  {
   "cell_type": "code",
   "execution_count": 21,
   "id": "f8cc98ed",
   "metadata": {},
   "outputs": [
    {
     "name": "stdout",
     "output_type": "stream",
     "text": [
      "([2, 4, 22, 34, 45, 53, 54, 66, 98, 99], 99, 1, 2, 3, 4)\n"
     ]
    }
   ],
   "source": [
    "tuple_for_sorting=([98,45,53,54,66,2,34,22,99,4],99,1,2,3,4)\n",
    "tuple_for_sorting[0].sort()\n",
    "print(tuple_for_sorting)"
   ]
  },
  {
   "cell_type": "code",
   "execution_count": 41,
   "id": "9e58abe4",
   "metadata": {},
   "outputs": [
    {
     "name": "stdout",
     "output_type": "stream",
     "text": [
      "{'name': 'Aryan', 'surname': 'Athayle', 'roll_no': 5, 0: 3, 1: 16, 2: 5}\n"
     ]
    }
   ],
   "source": [
    "tuple_dict=((\"Aaron\",\"Philip\",3),(\"Arya\",\"Tilekar\",16),(\"Aryan\",\"Athayle\",5))\n",
    "dictionary_={}\n",
    "# {'name':tuple_dict[i][0],'surname':tuple_dict[i][1],'roll_no':tuple_dict[i][2]}\n",
    "for i in range(0,len(tuple_dict)):\n",
    "    dictionary_.update({\"name\":tuple_dict[i][0]})\n",
    "    dictionary_.update({\"surname\":tuple_dict[i][1]})\n",
    "    dictionary_.update({\"roll_no\":tuple_dict[i][2]})\n",
    "    dictionary_[i]=tuple_dict[i][0]\n",
    "    dictionary_[i]=tuple_dict[i][1]\n",
    "    dictionary_[i]=tuple_dict[i][2]\n",
    "print(dictionary_)\n",
    "    "
   ]
  },
  {
   "cell_type": "code",
   "execution_count": 42,
   "id": "9072ed7e",
   "metadata": {},
   "outputs": [
    {
     "name": "stdout",
     "output_type": "stream",
     "text": [
      "10\n"
     ]
    }
   ],
   "source": [
    "elements=(1,2,3,4)\n",
    "sum=0\n",
    "for i in range(0,len(elements)):\n",
    "    sum+=elements[i]\n",
    "print(sum)"
   ]
  },
  {
   "cell_type": "code",
   "execution_count": null,
   "id": "f0e4d382",
   "metadata": {},
   "outputs": [],
   "source": [
    "elements((1,2,3),4,5,6)"
   ]
  }
 ],
 "metadata": {
  "kernelspec": {
   "display_name": "Python 3 (ipykernel)",
   "language": "python",
   "name": "python3"
  },
  "language_info": {
   "codemirror_mode": {
    "name": "ipython",
    "version": 3
   },
   "file_extension": ".py",
   "mimetype": "text/x-python",
   "name": "python",
   "nbconvert_exporter": "python",
   "pygments_lexer": "ipython3",
   "version": "3.9.6"
  }
 },
 "nbformat": 4,
 "nbformat_minor": 5
}
