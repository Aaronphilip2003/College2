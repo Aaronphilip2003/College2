{
 "cells": [
  {
   "cell_type": "code",
   "execution_count": 11,
   "id": "1bcd655a",
   "metadata": {},
   "outputs": [
    {
     "name": "stdout",
     "output_type": "stream",
     "text": [
      "3\n",
      "1\n",
      "4\n",
      "1\n",
      "2.4999999999999996\n",
      "2.4999999999999996\n",
      "2.500000000000004\n",
      "2.5000000000000004\n",
      "2.5000000000000058\n",
      "2.4999999999999987\n",
      "2.500000000000018\n",
      "2.5000000000000075\n",
      "2.5000000000000098\n",
      "2.4999999999999947\n"
     ]
    }
   ],
   "source": [
    "import math\n",
    "\n",
    "n0=int(input())#3\n",
    "x0=int(input())#1\n",
    "x_n1=int(input())#4\n",
    "j=int(input())#1\n",
    "\n",
    "for j in range(0,10):\n",
    "    equation=1/2*(x_n1+x0)-1/2*(x_n1-x0)*math.cos(((2*j-1)*math.pi)/2*n)\n",
    "    print(equation)"
   ]
  },
  {
   "cell_type": "code",
   "execution_count": null,
   "id": "8cbde941",
   "metadata": {},
   "outputs": [],
   "source": []
  }
 ],
 "metadata": {
  "kernelspec": {
   "display_name": "Python 3 (ipykernel)",
   "language": "python",
   "name": "python3"
  },
  "language_info": {
   "codemirror_mode": {
    "name": "ipython",
    "version": 3
   },
   "file_extension": ".py",
   "mimetype": "text/x-python",
   "name": "python",
   "nbconvert_exporter": "python",
   "pygments_lexer": "ipython3",
   "version": "3.9.6"
  }
 },
 "nbformat": 4,
 "nbformat_minor": 5
}
