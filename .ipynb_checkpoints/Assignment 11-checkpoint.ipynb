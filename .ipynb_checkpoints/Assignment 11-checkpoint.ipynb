{
 "cells": [
  {
   "cell_type": "code",
   "execution_count": 5,
   "id": "1a8a7deb",
   "metadata": {},
   "outputs": [],
   "source": [
    "from tkinter import *\n",
    "\n",
    "root=Tk()\n",
    "label=Label(root,text=\"Hello World\")\n",
    "frm1=Frame(root)\n",
    "frm1.pack(side=TOP)\n",
    "\n",
    "frm2=Frame(root)\n",
    "frm2.pack(side=BOTTOM)\n",
    "\n",
    "def Click():\n",
    "    frm1.text=\"Clicked\"\n",
    "\n",
    "button=Button(root,text=\"Click Me\", fg=\"red\",command=Click)\n",
    "button.pack()\n",
    "\n",
    "label.pack()\n",
    "root.mainloop()"
   ]
  },
  {
   "cell_type": "code",
   "execution_count": null,
   "id": "c3377c4d",
   "metadata": {},
   "outputs": [],
   "source": []
  }
 ],
 "metadata": {
  "kernelspec": {
   "display_name": "Python 3 (ipykernel)",
   "language": "python",
   "name": "python3"
  },
  "language_info": {
   "codemirror_mode": {
    "name": "ipython",
    "version": 3
   },
   "file_extension": ".py",
   "mimetype": "text/x-python",
   "name": "python",
   "nbconvert_exporter": "python",
   "pygments_lexer": "ipython3",
   "version": "3.9.6"
  }
 },
 "nbformat": 4,
 "nbformat_minor": 5
}
