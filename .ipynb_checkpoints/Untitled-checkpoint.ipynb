{
 "cells": [
  {
   "cell_type": "markdown",
   "id": "77c0860f",
   "metadata": {},
   "source": [
    "## Largest of three numbers"
   ]
  },
  {
   "cell_type": "code",
   "execution_count": 4,
   "id": "aaec4727",
   "metadata": {},
   "outputs": [
    {
     "name": "stdout",
     "output_type": "stream",
     "text": [
      "Enter first number:1\n",
      "Enter first number:4\n",
      "Enter first number:6\n",
      "6 is the greatest\n"
     ]
    }
   ],
   "source": [
    "a=int(input(\"Enter first number:\"))\n",
    "b=int(input(\"Enter first number:\"))\n",
    "c=int(input(\"Enter first number:\"))\n",
    "\n",
    "if(a>b and a>c):\n",
    "    print(a,\"is the greatest\")\n",
    "elif(b>a and b>c):\n",
    "    print(b,\"is the greatest\")\n",
    "elif(c>a and c>b):\n",
    "    print(c,\"is the greatest\")"
   ]
  }
 ],
 "metadata": {
  "kernelspec": {
   "display_name": "Python 3 (ipykernel)",
   "language": "python",
   "name": "python3"
  },
  "language_info": {
   "codemirror_mode": {
    "name": "ipython",
    "version": 3
   },
   "file_extension": ".py",
   "mimetype": "text/x-python",
   "name": "python",
   "nbconvert_exporter": "python",
   "pygments_lexer": "ipython3",
   "version": "3.9.6"
  }
 },
 "nbformat": 4,
 "nbformat_minor": 5
}
