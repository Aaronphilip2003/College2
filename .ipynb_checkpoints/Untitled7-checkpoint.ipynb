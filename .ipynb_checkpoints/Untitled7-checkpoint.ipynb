{
 "cells": [
  {
   "cell_type": "code",
   "execution_count": 49,
   "id": "525b7560",
   "metadata": {},
   "outputs": [],
   "source": [
    "class Animal():\n",
    "    def __init__(self,name):\n",
    "        self.name=name\n",
    "        print(\"Animal Created\")\n",
    "    def eat(self):\n",
    "        print(\"I am eating\")\n",
    "\n",
    "class Dog(Animal):\n",
    "    def __init__(self,name):\n",
    "        self.name=name\n",
    "    def bark(self):\n",
    "        print(self.name,\"is barking\")"
   ]
  },
  {
   "cell_type": "code",
   "execution_count": 50,
   "id": "6751a2ff",
   "metadata": {},
   "outputs": [],
   "source": [
    "dog=Dog(\"bruno\")"
   ]
  },
  {
   "cell_type": "code",
   "execution_count": 51,
   "id": "576e2c64",
   "metadata": {},
   "outputs": [
    {
     "name": "stdout",
     "output_type": "stream",
     "text": [
      "bruno is barking\n"
     ]
    }
   ],
   "source": [
    "dog.bark()"
   ]
  },
  {
   "cell_type": "code",
   "execution_count": 54,
   "id": "d40058cf",
   "metadata": {},
   "outputs": [],
   "source": [
    "class Student():\n",
    "    def __init__(self,m1,m2,m3):\n",
    "        self.m1=m1\n",
    "        self.m2=m2\n",
    "        self.m3=m3\n",
    "        \n",
    "        self.avg=(self.m1+self.m2+self.m3)/3\n",
    "        \n",
    "    def result(self):\n",
    "        print(self.avg)"
   ]
  },
  {
   "cell_type": "code",
   "execution_count": 57,
   "id": "fdf47c47",
   "metadata": {},
   "outputs": [],
   "source": [
    "s1=Student(99,95,100)"
   ]
  },
  {
   "cell_type": "code",
   "execution_count": null,
   "id": "ad8f6802",
   "metadata": {},
   "outputs": [],
   "source": []
  }
 ],
 "metadata": {
  "kernelspec": {
   "display_name": "Python 3 (ipykernel)",
   "language": "python",
   "name": "python3"
  },
  "language_info": {
   "codemirror_mode": {
    "name": "ipython",
    "version": 3
   },
   "file_extension": ".py",
   "mimetype": "text/x-python",
   "name": "python",
   "nbconvert_exporter": "python",
   "pygments_lexer": "ipython3",
   "version": "3.9.6"
  }
 },
 "nbformat": 4,
 "nbformat_minor": 5
}
