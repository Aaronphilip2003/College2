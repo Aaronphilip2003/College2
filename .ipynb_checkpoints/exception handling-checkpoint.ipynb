{
 "cells": [
  {
   "cell_type": "markdown",
   "id": "0dd01311",
   "metadata": {},
   "source": [
    "## Exception Handling"
   ]
  },
  {
   "cell_type": "code",
   "execution_count": 3,
   "id": "bd19635e",
   "metadata": {},
   "outputs": [
    {
     "name": "stdout",
     "output_type": "stream",
     "text": [
      "Enter the first side of the triangle:3\n",
      "Enter the second side of the triangle:4\n",
      "Enter the third side of the triangle:g\n",
      "<class 'ValueError'>\n",
      "Enter the first side of the triangle:3\n",
      "Enter the second side of the triangle:4\n",
      "Enter the third side of the triangle:5\n",
      "Right Angled Triangle\n",
      "Do you want to continue? 0 for yes 1 for no1\n"
     ]
    }
   ],
   "source": [
    "import sys\n",
    "\n",
    "def checkRightAngled(a,b,c):\n",
    "    if a*a+b*b==c*c:\n",
    "        return True\n",
    "    elif c*c+b*b==a*a:\n",
    "        return True\n",
    "    elif a*a+c*c==b*b:\n",
    "        return True\n",
    "    \n",
    "    return False\n",
    "\n",
    "cont=0\n",
    "while (cont!=1):\n",
    "    try:\n",
    "        a=input(\"Enter the first side of the triangle:\")\n",
    "        b=input(\"Enter the second side of the triangle:\")\n",
    "        c=input(\"Enter the third side of the triangle:\")\n",
    "        a=int(a)\n",
    "        b=int(b)\n",
    "        c=int(c)\n",
    "        answer=checkRightAngled(a,b,c)\n",
    "        if answer==1:\n",
    "            print(\"Right Angled Triangle\")\n",
    "        else:\n",
    "            print(\"Not a Right Angled Triangle\")\n",
    "        cont=int(input(\"Do you want to continue? 0 for yes 1 for no\"))\n",
    "    except:\n",
    "        print(sys.exc_info()[0])"
   ]
  },
  {
   "cell_type": "code",
   "execution_count": null,
   "id": "3cb13035",
   "metadata": {},
   "outputs": [],
   "source": [
    "def prime(num):\n",
    "    for i in range(2,num):\n",
    "        if num%i==0:\n",
    "            return False\n",
    "    return True\n",
    "        \n",
    "    \n",
    "\n",
    "def primeFactors(num):\n",
    "    for i in range(2,num):\n",
    "        if prime(i)==True:\n",
    "            if num%i==0:\n",
    "                print(i)\n",
    "            \n",
    "num=int(input(\"Enter a number:\"))\n",
    "primeFactors(num)"
   ]
  }
 ],
 "metadata": {
  "kernelspec": {
   "display_name": "Python 3 (ipykernel)",
   "language": "python",
   "name": "python3"
  },
  "language_info": {
   "codemirror_mode": {
    "name": "ipython",
    "version": 3
   },
   "file_extension": ".py",
   "mimetype": "text/x-python",
   "name": "python",
   "nbconvert_exporter": "python",
   "pygments_lexer": "ipython3",
   "version": "3.9.6"
  }
 },
 "nbformat": 4,
 "nbformat_minor": 5
}
