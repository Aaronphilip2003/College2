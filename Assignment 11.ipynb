{
 "cells": [
  {
   "cell_type": "code",
   "execution_count": 12,
   "id": "5164b610",
   "metadata": {},
   "outputs": [],
   "source": [
    "# from tkinter import *\n",
    "\n",
    "# root=Tk()\n",
    "# label=Label(root,text=\"Hello World\")\n",
    "# frm1=Frame(root)\n",
    "# frm1.pack(side=TOP)\n",
    "\n",
    "# frm2=Frame(root)\n",
    "# frm2.pack(side=BOTTOM)\n",
    "\n",
    "# def Click():\n",
    "#     label[\"text\"]=\"Clicked!\"\n",
    "    \n",
    "# button=Button(root,text=\"Click Me\", fg=\"red\",command=Click)\n",
    "# button.pack()\n",
    "\n",
    "# label.pack()\n",
    "# root.mainloop()"
   ]
  },
  {
   "cell_type": "markdown",
   "id": "db891f06",
   "metadata": {},
   "source": [
    "## User Login GUI"
   ]
  },
  {
   "cell_type": "code",
   "execution_count": 31,
   "id": "cd61ce00",
   "metadata": {},
   "outputs": [],
   "source": [
    "from tkinter import *\n",
    "\n",
    "def validate():\n",
    "    username=e1.get()\n",
    "    password=e2.get()\n",
    "    \n",
    "    if username==\"Aaron\" and password==\"12345\":\n",
    "        lbl4[\"text\"]=\"Logged in!\"\n",
    "    else:\n",
    "        lbl4[\"text\"]=\"Invalid Log in\"\n",
    "        \n",
    "\n",
    "\n",
    "root=Tk()\n",
    "root.geometry(\"500x200\")\n",
    "username=\"Aaron\"\n",
    "password=\"12345\"\n",
    "\n",
    "lbl1=Label(root,text=\"Enter your Username and Password\")\n",
    "lbl1.grid(row=0,column=0)\n",
    "\n",
    "lbl2=Label(root,text=\"Enter your Username:\")\n",
    "lbl2.grid(row=1,column=0)\n",
    "\n",
    "e1=Entry(root,width=20)\n",
    "e1.grid(row=1,column=1)\n",
    "\n",
    "\n",
    "lbl3=Label(root,text=\"Enter your Password:\")\n",
    "lbl3.grid(row=2,column=0)\n",
    "\n",
    "e2=Entry(root,width=20,show=\"*\")\n",
    "e2.grid(row=2,column=1)\n",
    "\n",
    "lbl4=Label(root,text=\"\")\n",
    "lbl4.grid(row=4,column=0)\n",
    "\n",
    "\n",
    "button=Button(root,text=\"Submit\",command=validate)\n",
    "button.grid(row=3,column=0)\n",
    "\n",
    "\n",
    "root.mainloop()"
   ]
  },
  {
   "cell_type": "code",
   "execution_count": null,
   "id": "e0d6557d",
   "metadata": {},
   "outputs": [],
   "source": []
  }
 ],
 "metadata": {
  "kernelspec": {
   "display_name": "Python 3 (ipykernel)",
   "language": "python",
   "name": "python3"
  },
  "language_info": {
   "codemirror_mode": {
    "name": "ipython",
    "version": 3
   },
   "file_extension": ".py",
   "mimetype": "text/x-python",
   "name": "python",
   "nbconvert_exporter": "python",
   "pygments_lexer": "ipython3",
   "version": "3.9.6"
  }
 },
 "nbformat": 4,
 "nbformat_minor": 5
}
