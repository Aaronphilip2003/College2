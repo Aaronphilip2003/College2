{
 "cells": [
  {
   "cell_type": "code",
   "execution_count": 1,
   "id": "27e55076",
   "metadata": {},
   "outputs": [
    {
     "name": "stdout",
     "output_type": "stream",
     "text": [
      "['15', '26', '22', '23']\n"
     ]
    }
   ],
   "source": [
    "import re\n",
    "\n",
    "text1=\"Todays Lab was attended by 15,26,1,3,22,23\"\n",
    "pattern=\"\\d{2}\"\n",
    "res=re.findall(pattern,text1)#'[0-9]+'\n",
    "print(res)"
   ]
  },
  {
   "cell_type": "code",
   "execution_count": 10,
   "id": "21a73c77",
   "metadata": {},
   "outputs": [
    {
     "name": "stdout",
     "output_type": "stream",
     "text": [
      "FOUND!\n"
     ]
    }
   ],
   "source": [
    "text2=\"Java is an Object oriented programming languuge\"\n",
    "match=re.search(\"\\AJava\",text2)\n",
    "if match:\n",
    "    print(\"FOUND!\")\n",
    "else:\n",
    "    print(\"NOT FOUND!\")"
   ]
  },
  {
   "cell_type": "code",
   "execution_count": 21,
   "id": "b9ee3a68",
   "metadata": {},
   "outputs": [
    {
     "data": {
      "text/plain": [
       "['Rat', 'Cat', 'Mat', 'Bat', 'Pat', 'Zat']"
      ]
     },
     "execution_count": 21,
     "metadata": {},
     "output_type": "execute_result"
    }
   ],
   "source": [
    "str=\"Rat Cat Mat Bat Pat Zat are good words\"\n",
    "re.findall(\"[A-Z]at\",str)"
   ]
  },
  {
   "cell_type": "code",
   "execution_count": 22,
   "id": "b30160ce",
   "metadata": {},
   "outputs": [
    {
     "data": {
      "text/plain": [
       "['Cat', 'Mat', 'Bat', 'Pat', 'Qat']"
      ]
     },
     "execution_count": 22,
     "metadata": {},
     "output_type": "execute_result"
    }
   ],
   "source": [
    "str=\"Rat Cat Mat Bat Pat Zat Qat are good words\"\n",
    "re.findall(\"[^R-Z]at\",str)"
   ]
  },
  {
   "cell_type": "code",
   "execution_count": 32,
   "id": "f5058a5c",
   "metadata": {},
   "outputs": [
    {
     "name": "stdout",
     "output_type": "stream",
     "text": [
      "aaron@gmail.com\n",
      "VALID\n"
     ]
    }
   ],
   "source": [
    "pattern=r\"\\b[A-Za-z0-9._%+-]+@[A-Za-z0-9._]+\\.+(com|edu|in)\"\n",
    "emailid=input()\n",
    "if re.match(pattern,emailid):\n",
    "    print(\"VALID\")\n",
    "else:\n",
    "    print(\"INVALID\")"
   ]
  },
  {
   "cell_type": "code",
   "execution_count": 15,
   "id": "51486945",
   "metadata": {},
   "outputs": [
    {
     "data": {
      "text/plain": [
       "['aaron']"
      ]
     },
     "execution_count": 15,
     "metadata": {},
     "output_type": "execute_result"
    }
   ],
   "source": [
    "text=\"aaron123@\"\n",
    "pattern=\"\\Aaaron\"\n",
    "re.findall(pattern,text)"
   ]
  },
  {
   "cell_type": "code",
   "execution_count": 21,
   "id": "ce8469d3",
   "metadata": {},
   "outputs": [
    {
     "name": "stdout",
     "output_type": "stream",
     "text": [
      "YES\n"
     ]
    }
   ],
   "source": [
    "text=\"aaron.philip\"\n",
    "val=re.search(\"\\.\",text)\n",
    "if val:\n",
    "    print(\"YES\")"
   ]
  },
  {
   "cell_type": "code",
   "execution_count": 26,
   "id": "ddea693f",
   "metadata": {},
   "outputs": [
    {
     "data": {
      "text/plain": [
       "['Aaron Philip']"
      ]
     },
     "execution_count": 26,
     "metadata": {},
     "output_type": "execute_result"
    }
   ],
   "source": [
    "pattern=\"[A-Z]{1-100} [A-Z]{1-100}\"\n",
    "re.findall(\"[\\w\\s]+\",\"Aaron Philip\")"
   ]
  },
  {
   "cell_type": "code",
   "execution_count": null,
   "id": "287281bd",
   "metadata": {},
   "outputs": [],
   "source": []
  }
 ],
 "metadata": {
  "kernelspec": {
   "display_name": "Python 3 (ipykernel)",
   "language": "python",
   "name": "python3"
  },
  "language_info": {
   "codemirror_mode": {
    "name": "ipython",
    "version": 3
   },
   "file_extension": ".py",
   "mimetype": "text/x-python",
   "name": "python",
   "nbconvert_exporter": "python",
   "pygments_lexer": "ipython3",
   "version": "3.9.6"
  }
 },
 "nbformat": 4,
 "nbformat_minor": 5
}
