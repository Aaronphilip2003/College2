{
 "cells": [
  {
   "cell_type": "markdown",
   "id": "92c0603e",
   "metadata": {},
   "source": [
    "## List Exercises"
   ]
  },
  {
   "cell_type": "code",
   "execution_count": 1,
   "id": "8552cfc4",
   "metadata": {},
   "outputs": [
    {
     "name": "stdout",
     "output_type": "stream",
     "text": [
      "[]\n",
      "[1, 2, 3, 'example', 3.132]\n"
     ]
    }
   ],
   "source": [
    "my_list=[]\n",
    "print(my_list)\n",
    "my_list=[1,2,3,'example',3.132]\n",
    "print(my_list)"
   ]
  },
  {
   "cell_type": "code",
   "execution_count": 3,
   "id": "542836be",
   "metadata": {},
   "outputs": [
    {
     "name": "stdout",
     "output_type": "stream",
     "text": [
      "Enter 10 values:\n",
      "1\n",
      "3\n",
      "2\n",
      "5\n",
      "3\n",
      "6\n",
      "8\n",
      "77\n",
      "99\n",
      "80\n",
      "[1, 3, 2, 5, 3, 6, 8, 77, 99, 80]\n"
     ]
    }
   ],
   "source": [
    "list=[]\n",
    "print(\"Enter 10 values:\")\n",
    "for i in range(10):\n",
    "    inp=int(input())\n",
    "    list.append(inp)\n",
    "print(list)"
   ]
  },
  {
   "cell_type": "markdown",
   "id": "4cb5bced",
   "metadata": {},
   "source": []
  },
  {
   "cell_type": "markdown",
   "id": "7c4b5ade",
   "metadata": {},
   "source": [
    "## Counting similar elements in a list"
   ]
  },
  {
   "cell_type": "code",
   "execution_count": 8,
   "id": "04285771",
   "metadata": {},
   "outputs": [
    {
     "name": "stdout",
     "output_type": "stream",
     "text": [
      "Indices:\n",
      "[[2, 5], [2, 6], [2, 7], [5, 6], [5, 7], [6, 7]]\n",
      "6\n"
     ]
    }
   ],
   "source": [
    "list=[1,2,4,3,5,4,4,4,6,7]\n",
    "count=0\n",
    "similar_element_indices=[]\n",
    "for i in range(0,len(list)):\n",
    "    for j in range(1,len(list)):\n",
    "        if list[i]==list[j] and i!=j:\n",
    "            similar_element_indices.append([i,j])\n",
    "\n",
    "for i in range(0,len(similar_element_indices)):\n",
    "    similar_element_indices[i].sort()\n",
    "\n",
    "final_element_list=[]\n",
    "for i in range(0,len(similar_element_indices)):\n",
    "    if similar_element_indices[i] not in final_element_list :\n",
    "        final_element_list.append(similar_element_indices[i])\n",
    "        count+=1\n",
    "print(\"Indices:\")\n",
    "print(final_element_list)\n",
    "print(count)"
   ]
  },
  {
   "cell_type": "markdown",
   "id": "87dfe176",
   "metadata": {},
   "source": [
    "## Odd and Even Count"
   ]
  },
  {
   "cell_type": "code",
   "execution_count": 11,
   "id": "49ddb16a",
   "metadata": {},
   "outputs": [
    {
     "name": "stdout",
     "output_type": "stream",
     "text": [
      "Even numbers: [2, 4, 4, 4, 4, 6]\n",
      "Even Count: 6\n",
      "Odd numbers: [1, 3, 5, 7]\n",
      "Odd Count: 4\n"
     ]
    }
   ],
   "source": [
    "even=[]\n",
    "even_count=0\n",
    "odd_count=0\n",
    "odd=[]\n",
    "for i in list:\n",
    "    if i%2==0:\n",
    "        even.append(i)\n",
    "        even_count+=1\n",
    "    else:\n",
    "        odd.append(i)\n",
    "        odd_count+=1\n",
    "print(\"Even numbers:\",even)\n",
    "print(\"Even Count:\",even_count)\n",
    "print(\"Odd numbers:\",odd)\n",
    "print(\"Odd Count:\",odd_count)"
   ]
  },
  {
   "cell_type": "markdown",
   "id": "b44b8843",
   "metadata": {},
   "source": [
    "## Positive and Negative Count"
   ]
  },
  {
   "cell_type": "code",
   "execution_count": 12,
   "id": "51ace9a3",
   "metadata": {},
   "outputs": [
    {
     "name": "stdout",
     "output_type": "stream",
     "text": [
      "Positive: 10\n",
      "Negative: 0\n",
      "Zeros: 0\n"
     ]
    }
   ],
   "source": [
    "positive_count=0\n",
    "negative_count=0\n",
    "zeros=0\n",
    "for i in list:\n",
    "    if i>0:\n",
    "        positive_count+=1\n",
    "    elif i<=0:\n",
    "        negative_count+=1\n",
    "    else:\n",
    "        zeros+=1\n",
    "print(\"Positive:\",positive_count)\n",
    "print(\"Negative:\",negative_count)\n",
    "print(\"Zeros:\",zeros)\n"
   ]
  },
  {
   "cell_type": "markdown",
   "id": "94844500",
   "metadata": {},
   "source": [
    "## Question 2"
   ]
  },
  {
   "cell_type": "code",
   "execution_count": 13,
   "id": "4ce41083",
   "metadata": {},
   "outputs": [
    {
     "name": "stdout",
     "output_type": "stream",
     "text": [
      "1\n",
      "53\n",
      "64\n",
      "57\n",
      "68\n",
      "74\n",
      "777\n",
      "446\n",
      "456\n",
      "879\n",
      "Ascending Order:\n",
      "[1, 53, 57, 64, 68, 74, 446, 456, 777, 879]\n",
      "Descending Order:\n",
      "[879, 777, 456, 446, 74, 68, 64, 57, 53, 1]\n",
      "Length of the list:\n",
      "10\n"
     ]
    }
   ],
   "source": [
    "list2=[]\n",
    "for i in range(10):\n",
    "    inp=int(input())\n",
    "    list2.append(inp)\n",
    "print(\"Ascending Order:\")\n",
    "print(sorted(list2))\n",
    "print(\"Descending Order:\")\n",
    "list2.sort(reverse=True)\n",
    "print(list2)\n",
    "print(\"Length of the list:\")\n",
    "print(len(list2))"
   ]
  },
  {
   "cell_type": "markdown",
   "id": "b4ca5c90",
   "metadata": {},
   "source": [
    "## Question 3"
   ]
  },
  {
   "cell_type": "code",
   "execution_count": 16,
   "id": "ccf5622e",
   "metadata": {},
   "outputs": [
    {
     "name": "stdout",
     "output_type": "stream",
     "text": [
      "Enter the elements of the first List:\n",
      "1\n",
      "3\n",
      "2\n",
      "4\n",
      "5\n",
      "7\n",
      "5\n",
      "7\n",
      "8\n",
      "6\n",
      "Enter the elements of the second List:\n",
      "99\n",
      "88\n",
      "77\n",
      "66\n",
      "55\n",
      "44\n",
      "33\n",
      "22\n",
      "11\n",
      "86\n",
      "Merged List:\n",
      "[1, 3, 2, 4, 5, 7, 5, 7, 8, 6, 99, 88, 77, 66, 55, 44, 33, 22, 11, 86]\n"
     ]
    }
   ],
   "source": [
    "list1=[]\n",
    "list2=[]\n",
    "print(\"Enter the elements of the first List:\")\n",
    "for i in range(10):\n",
    "    inp=int(input())\n",
    "    list1.append(inp)\n",
    "    \n",
    "print(\"Enter the elements of the second List:\")\n",
    "for i in range(10):\n",
    "    inp=int(input())\n",
    "    list2.append(inp)\n",
    "list_final=[]\n",
    "list_final=list1+list2\n",
    "print(\"Merged List:\")\n",
    "print(list_final)"
   ]
  },
  {
   "cell_type": "markdown",
   "id": "1b7a52ec",
   "metadata": {},
   "source": [
    "## Question 4 - Acronym"
   ]
  },
  {
   "cell_type": "code",
   "execution_count": 17,
   "id": "72235850",
   "metadata": {},
   "outputs": [
    {
     "name": "stdout",
     "output_type": "stream",
     "text": [
      "Enter a phrase:Random Access Memory\n",
      "RAM\n"
     ]
    }
   ],
   "source": [
    "phrase=input(\"Enter a phrase:\")\n",
    "acronym=phrase[0].upper()\n",
    "for i in range(0,len(phrase)-1):\n",
    "    if phrase[i]==' ':\n",
    "        acronym+=phrase[i+1].upper()\n",
    "print(acronym)"
   ]
  },
  {
   "cell_type": "code",
   "execution_count": null,
   "id": "e8906342",
   "metadata": {},
   "outputs": [],
   "source": [
    "i=int(input(\"Enter the number of the month to find its abbreviation:\"))\n",
    "months=[\"Jan\",\"Feb\",\"Mar\",\"Apr\",\"May\",\"Jun\",\"Jul\",\"Aug\",\"Sep\",\"Oct\",\"Nov\",\"Dec\"]\n",
    "print(months[i-1])"
   ]
  },
  {
   "cell_type": "code",
   "execution_count": null,
   "id": "2ffaba9b",
   "metadata": {},
   "outputs": [],
   "source": []
  }
 ],
 "metadata": {
  "kernelspec": {
   "display_name": "Python 3 (ipykernel)",
   "language": "python",
   "name": "python3"
  },
  "language_info": {
   "codemirror_mode": {
    "name": "ipython",
    "version": 3
   },
   "file_extension": ".py",
   "mimetype": "text/x-python",
   "name": "python",
   "nbconvert_exporter": "python",
   "pygments_lexer": "ipython3",
   "version": "3.9.6"
  }
 },
 "nbformat": 4,
 "nbformat_minor": 5
}
