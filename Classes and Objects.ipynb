{
 "cells": [
  {
   "cell_type": "code",
   "execution_count": 49,
   "id": "487347f7",
   "metadata": {},
   "outputs": [],
   "source": [
    "class Animal():\n",
    "    def __init__(self,name):\n",
    "        self.name=name\n",
    "        print(\"Animal Created\")\n",
    "    def eat(self):\n",
    "        print(\"I am eating\")\n",
    "\n",
    "class Dog(Animal):\n",
    "    def __init__(self,name):\n",
    "        self.name=name\n",
    "    def bark(self):\n",
    "        print(self.name,\"is barking\")"
   ]
  },
  {
   "cell_type": "code",
   "execution_count": 50,
   "id": "a815348a",
   "metadata": {},
   "outputs": [],
   "source": [
    "dog=Dog(\"bruno\")"
   ]
  },
  {
   "cell_type": "code",
   "execution_count": 51,
   "id": "609eac99",
   "metadata": {},
   "outputs": [
    {
     "name": "stdout",
     "output_type": "stream",
     "text": [
      "bruno is barking\n"
     ]
    }
   ],
   "source": [
    "dog.bark()"
   ]
  },
  {
   "cell_type": "code",
   "execution_count": 60,
   "id": "40ac72b7",
   "metadata": {},
   "outputs": [],
   "source": [
    "class Student():\n",
    "    def __init__(self,m1,m2,m3):\n",
    "        self.m1=m1\n",
    "        self.m2=m2\n",
    "        self.m3=m3\n",
    "        \n",
    "        self.avg=(self.m1+self.m2+self.m3)/3\n",
    "        \n",
    "    def result(self):\n",
    "        if self.avg>=90:\n",
    "            print(\"ClASS A\")\n",
    "        elif self.avg>70 and self.avg<90:\n",
    "            print(\"CLASS B\")\n",
    "        elif self.avg>50 and self.avg<=70:\n",
    "            print(\"CLASS C\")\n",
    "        elif self.avg>40 and self.avg<=50:\n",
    "            print(\"CLASS D\")\n",
    "        else:\n",
    "            print(\"FAIL\")"
   ]
  },
  {
   "cell_type": "code",
   "execution_count": 63,
   "id": "d1711ed6",
   "metadata": {},
   "outputs": [],
   "source": [
    "s1=Student(39,37,40)"
   ]
  },
  {
   "cell_type": "code",
   "execution_count": 64,
   "id": "15f2c1a7",
   "metadata": {},
   "outputs": [
    {
     "name": "stdout",
     "output_type": "stream",
     "text": [
      "FAIL\n"
     ]
    }
   ],
   "source": [
    "s1.result()"
   ]
  }
 ],
 "metadata": {
  "kernelspec": {
   "display_name": "Python 3 (ipykernel)",
   "language": "python",
   "name": "python3"
  },
  "language_info": {
   "codemirror_mode": {
    "name": "ipython",
    "version": 3
   },
   "file_extension": ".py",
   "mimetype": "text/x-python",
   "name": "python",
   "nbconvert_exporter": "python",
   "pygments_lexer": "ipython3",
   "version": "3.9.6"
  }
 },
 "nbformat": 4,
 "nbformat_minor": 5
}
