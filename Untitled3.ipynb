{
 "cells": [
  {
   "cell_type": "code",
   "execution_count": 1,
   "id": "c35e4ebc",
   "metadata": {},
   "outputs": [],
   "source": [
    "import numpy as np"
   ]
  },
  {
   "cell_type": "code",
   "execution_count": 2,
   "id": "d7d76d21",
   "metadata": {},
   "outputs": [],
   "source": [
    "arr=np.array([1,2,3,4,5])"
   ]
  },
  {
   "cell_type": "code",
   "execution_count": 4,
   "id": "51166c1b",
   "metadata": {},
   "outputs": [
    {
     "name": "stdout",
     "output_type": "stream",
     "text": [
      "[1 2 3 4 5]\n"
     ]
    }
   ],
   "source": [
    "print(arr)"
   ]
  },
  {
   "cell_type": "code",
   "execution_count": 5,
   "id": "160ca97b",
   "metadata": {},
   "outputs": [
    {
     "name": "stdout",
     "output_type": "stream",
     "text": [
      "<class 'numpy.ndarray'>\n"
     ]
    }
   ],
   "source": [
    "print(type(arr))"
   ]
  },
  {
   "cell_type": "code",
   "execution_count": 9,
   "id": "988586c4",
   "metadata": {},
   "outputs": [],
   "source": [
    "arr2=np.array([[1,2,3],[4,5,6]])"
   ]
  },
  {
   "cell_type": "code",
   "execution_count": 10,
   "id": "559fe913",
   "metadata": {},
   "outputs": [
    {
     "data": {
      "text/plain": [
       "array([[1, 2, 3],\n",
       "       [4, 5, 6]])"
      ]
     },
     "execution_count": 10,
     "metadata": {},
     "output_type": "execute_result"
    }
   ],
   "source": [
    "arr2"
   ]
  },
  {
   "cell_type": "code",
   "execution_count": 13,
   "id": "defe2640",
   "metadata": {},
   "outputs": [],
   "source": [
    "arr3=np.array([[[1,2,3],[4,5,6],[7,8,9]]])"
   ]
  },
  {
   "cell_type": "code",
   "execution_count": 14,
   "id": "a65cc5eb",
   "metadata": {},
   "outputs": [
    {
     "data": {
      "text/plain": [
       "array([[[1, 2, 3],\n",
       "        [4, 5, 6],\n",
       "        [7, 8, 9]]])"
      ]
     },
     "execution_count": 14,
     "metadata": {},
     "output_type": "execute_result"
    }
   ],
   "source": [
    "arr3"
   ]
  },
  {
   "cell_type": "code",
   "execution_count": 19,
   "id": "e49a613c",
   "metadata": {},
   "outputs": [
    {
     "data": {
      "text/plain": [
       "3"
      ]
     },
     "execution_count": 19,
     "metadata": {},
     "output_type": "execute_result"
    }
   ],
   "source": [
    "arr3.ndim"
   ]
  },
  {
   "cell_type": "code",
   "execution_count": 21,
   "id": "ea653ed2",
   "metadata": {},
   "outputs": [],
   "source": [
    "new_arr=np.array([1,2,3,4])"
   ]
  },
  {
   "cell_type": "code",
   "execution_count": 22,
   "id": "e164eced",
   "metadata": {},
   "outputs": [],
   "source": [
    "new_arr2=new_arr.astype('float64')"
   ]
  },
  {
   "cell_type": "code",
   "execution_count": 24,
   "id": "c95be03d",
   "metadata": {},
   "outputs": [
    {
     "name": "stdout",
     "output_type": "stream",
     "text": [
      "[1. 2. 3. 4.]\n",
      "float64\n"
     ]
    }
   ],
   "source": [
    "print(new_arr2)\n",
    "print(new_arr2.dtype)"
   ]
  },
  {
   "cell_type": "markdown",
   "id": "572f83b8",
   "metadata": {},
   "source": [
    "## Menu Driven Matrix Operations"
   ]
  },
  {
   "cell_type": "code",
   "execution_count": 42,
   "id": "a9ad99a2",
   "metadata": {},
   "outputs": [
    {
     "name": "stdout",
     "output_type": "stream",
     "text": [
      "Enter the rows of the matrix 1:2\n",
      "Enter the columns of the matrix 1:2\n",
      "Enter the entries in a single line (separated by space): \n",
      "1 2 3 4\n",
      "Enter the rows of the matrix 2:2\n",
      "Enter the columns of the matrix 2:2\n",
      "Enter the entries in a single line (separated by space): \n",
      "1 2 3 4\n",
      "[[1 2]\n",
      " [3 4]]\n",
      "[[1 2]\n",
      " [3 4]]\n",
      "----MENU----\n",
      "1-Addition\n",
      "2-Subtraction\n",
      "3-Multiplication\n",
      "4-Transpose matrix 1\n",
      "5-Transpose matrix 2\n",
      "Enter your choice:3\n",
      "[[ 1  4]\n",
      " [ 9 16]]\n"
     ]
    }
   ],
   "source": [
    "rows1=int(input(\"Enter the rows of the matrix 1:\"))\n",
    "columns1=int(input(\"Enter the columns of the matrix 1:\"))\n",
    "\n",
    "print(\"Enter the entries in a single line (separated by space): \")\n",
    "entries1 = list(map(int, input().split()))\n",
    "\n",
    "rows2=int(input(\"Enter the rows of the matrix 2:\"))\n",
    "columns2=int(input(\"Enter the columns of the matrix 2:\"))\n",
    "\n",
    "print(\"Enter the entries in a single line (separated by space): \")\n",
    "entries2 = list(map(int, input().split()))\n",
    "\n",
    "matrix1=np.array(entries1).reshape(rows1,columns1)\n",
    "matrix2=np.array(entries2).reshape(rows2,columns2)\n",
    "\n",
    "print(matrix1)\n",
    "print(matrix2)\n",
    "\n",
    "print(\"----MENU----\")\n",
    "print(\"1-Addition\")\n",
    "print(\"2-Subtraction\")\n",
    "print(\"3-Multiplication\")\n",
    "print(\"4-Transpose matrix 1\")\n",
    "print(\"5-Transpose matrix 2\")\n",
    "\n",
    "choice=int(input(\"Enter your choice:\"))\n",
    "\n",
    "if (choice==1):\n",
    "    print(np.add(matrix1,matrix2))\n",
    "elif (choice==2):\n",
    "    print(np.subtract(matrix1,matrix2))\n",
    "elif (choice==3):\n",
    "    print(np.multiply(matrix1,matrix2))\n",
    "elif (choice==4):\n",
    "    print(np.transpose(matrix1)) \n",
    "elif (choice==5):\n",
    "    print(np.transpose(matrix2)) "
   ]
  },
  {
   "cell_type": "markdown",
   "id": "33908bf9",
   "metadata": {},
   "source": [
    "# SPARSE MATRIX"
   ]
  },
  {
   "cell_type": "code",
   "execution_count": 44,
   "id": "00db8440",
   "metadata": {},
   "outputs": [
    {
     "name": "stdout",
     "output_type": "stream",
     "text": [
      "Enter the rows of the matrix:3\n",
      "Enter the columns of the matrix:3\n",
      "Enter the entries in a single line (separated by space): \n",
      "1 0 0 4 6 5 7 0 0\n",
      "  (0, 0)\t1\n",
      "  (1, 0)\t4\n",
      "  (1, 1)\t6\n",
      "  (1, 2)\t5\n",
      "  (2, 0)\t7\n"
     ]
    }
   ],
   "source": [
    "from scipy.sparse import csr_matrix\n",
    "\n",
    "rows1=int(input(\"Enter the rows of the matrix:\"))\n",
    "columns1=int(input(\"Enter the columns of the matrix:\"))\n",
    "\n",
    "print(\"Enter the entries in a single line (separated by space): \")\n",
    "entries1 = list(map(int, input().split()))\n",
    "\n",
    "matrix=np.array(entries1).reshape(rows1,columns1)\n",
    "\n",
    "A = csr_matrix(matrix)\n",
    "print(A)"
   ]
  },
  {
   "cell_type": "code",
   "execution_count": null,
   "id": "5cce0275",
   "metadata": {},
   "outputs": [],
   "source": []
  }
 ],
 "metadata": {
  "kernelspec": {
   "display_name": "Python 3 (ipykernel)",
   "language": "python",
   "name": "python3"
  },
  "language_info": {
   "codemirror_mode": {
    "name": "ipython",
    "version": 3
   },
   "file_extension": ".py",
   "mimetype": "text/x-python",
   "name": "python",
   "nbconvert_exporter": "python",
   "pygments_lexer": "ipython3",
   "version": "3.9.6"
  }
 },
 "nbformat": 4,
 "nbformat_minor": 5
}
