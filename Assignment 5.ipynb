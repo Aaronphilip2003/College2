{
 "cells": [
  {
   "cell_type": "markdown",
   "id": "1cdd2822",
   "metadata": {},
   "source": [
    "## Tuple Sorting"
   ]
  },
  {
   "cell_type": "code",
   "execution_count": 1,
   "id": "85cab79f",
   "metadata": {},
   "outputs": [
    {
     "name": "stdout",
     "output_type": "stream",
     "text": [
      "([2, 4, 22, 34, 45, 53, 54, 66, 98, 99], 99, 1, 2, 3, 4)\n"
     ]
    }
   ],
   "source": [
    "tuple_for_sorting=([98,45,53,54,66,2,34,22,99,4],99,1,2,3,4)\n",
    "tuple_for_sorting[0].sort()\n",
    "print(tuple_for_sorting)"
   ]
  },
  {
   "cell_type": "markdown",
   "id": "c247d522",
   "metadata": {},
   "source": [
    "## Dictionary Operations"
   ]
  },
  {
   "cell_type": "code",
   "execution_count": 4,
   "id": "9dbc2b61",
   "metadata": {},
   "outputs": [
    {
     "name": "stdout",
     "output_type": "stream",
     "text": [
      "{'name': 'Aryan', 'surname': 'Athayle', 'roll_no': 5, 0: 3, 1: 16, 2: 5}\n"
     ]
    }
   ],
   "source": [
    "tuple_dict=((\"Aaron\",\"Philip\",3),(\"Arya\",\"Tilekar\",16),(\"Aryan\",\"Athayle\",5))\n",
    "dictionary_={}\n",
    "# {'name':tuple_dict[i][0],'surname':tuple_dict[i][1],'roll_no':tuple_dict[i][2]}\n",
    "for i in range(0,len(tuple_dict)):\n",
    "    dictionary_.update({\"name\":tuple_dict[i][0]})\n",
    "    dictionary_.update({\"surname\":tuple_dict[i][1]})\n",
    "    dictionary_.update({\"roll_no\":tuple_dict[i][2]})\n",
    "    dictionary_[i]=tuple_dict[i][0]\n",
    "    dictionary_[i]=tuple_dict[i][1]\n",
    "    dictionary_[i]=tuple_dict[i][2]\n",
    "print(dictionary_)\n",
    "    "
   ]
  },
  {
   "cell_type": "code",
   "execution_count": 5,
   "id": "fbfed79b",
   "metadata": {},
   "outputs": [
    {
     "name": "stdout",
     "output_type": "stream",
     "text": [
      "10\n"
     ]
    }
   ],
   "source": [
    "elements=(1,2,3,4)\n",
    "sum=0\n",
    "for i in range(0,len(elements)):\n",
    "    sum+=elements[i]\n",
    "print(sum)"
   ]
  }
 ],
 "metadata": {
  "kernelspec": {
   "display_name": "Python 3 (ipykernel)",
   "language": "python",
   "name": "python3"
  },
  "language_info": {
   "codemirror_mode": {
    "name": "ipython",
    "version": 3
   },
   "file_extension": ".py",
   "mimetype": "text/x-python",
   "name": "python",
   "nbconvert_exporter": "python",
   "pygments_lexer": "ipython3",
   "version": "3.9.6"
  }
 },
 "nbformat": 4,
 "nbformat_minor": 5
}
