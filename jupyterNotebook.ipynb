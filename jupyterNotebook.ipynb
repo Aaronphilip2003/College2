{
 "cells": [
  {
   "cell_type": "code",
   "execution_count": 1,
   "id": "a02bc6cf",
   "metadata": {},
   "outputs": [
    {
     "name": "stdout",
     "output_type": "stream",
     "text": [
      "Hello World\n"
     ]
    }
   ],
   "source": [
    "print(\"Hello World\")"
   ]
  },
  {
   "cell_type": "code",
   "execution_count": 4,
   "id": "18435970",
   "metadata": {},
   "outputs": [
    {
     "name": "stdout",
     "output_type": "stream",
     "text": [
      "Student Name: Aaron Philip\n",
      "Address: D-201 Siciliaa Pune 411001\n",
      "Contact No.: 8530008394\n",
      "Mother Tongue: English\n",
      "School_Name:  The Bishops School, Camp\n",
      "Year: 2022\n",
      "Panel: A\n",
      "Roll No.: 37\n"
     ]
    }
   ],
   "source": [
    "name=\"Aaron Philip\"\n",
    "address=\"D-201 Siciliaa Pune 411001\"\n",
    "contact=8530008394\n",
    "mother_tongue=\"English\"\n",
    "school=\"The Bishops School, Camp\"\n",
    "year=2022\n",
    "panel=\"A\"\n",
    "roll_no=37\n",
    "\n",
    "\n",
    "print(\"Student Name:\",name)\n",
    "print(\"Address:\",address)\n",
    "print(\"Contact No.:\",contact)\n",
    "print(\"Mother Tongue:\",mother_tongue)\n",
    "print(\"School_Name: \",school)\n",
    "print(\"Year:\",year)\n",
    "print(\"Panel:\",panel)\n",
    "print(\"Roll No.:\",roll_no)"
   ]
  },
  {
   "cell_type": "code",
   "execution_count": null,
   "id": "2d27b655",
   "metadata": {},
   "outputs": [],
   "source": []
  }
 ],
 "metadata": {
  "kernelspec": {
   "display_name": "Python 3 (ipykernel)",
   "language": "python",
   "name": "python3"
  },
  "language_info": {
   "codemirror_mode": {
    "name": "ipython",
    "version": 3
   },
   "file_extension": ".py",
   "mimetype": "text/x-python",
   "name": "python",
   "nbconvert_exporter": "python",
   "pygments_lexer": "ipython3",
   "version": "3.9.6"
  }
 },
 "nbformat": 4,
 "nbformat_minor": 5
}
